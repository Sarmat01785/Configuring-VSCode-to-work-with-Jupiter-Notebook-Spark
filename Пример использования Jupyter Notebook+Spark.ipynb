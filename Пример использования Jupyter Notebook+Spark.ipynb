{
 "cells": [
  {
   "cell_type": "code",
   "execution_count": 43,
   "id": "dfaa1708-4f7b-492b-9715-630e1f2bb043",
   "metadata": {},
   "outputs": [],
   "source": [
    "# Импорт файла или модуля для настройки среды выполнения Spark\n",
    "import init_spark_env"
   ]
  },
  {
   "cell_type": "code",
   "execution_count": 45,
   "id": "8a8cced1-609f-46d6-902f-833d55f09cc4",
   "metadata": {},
   "outputs": [],
   "source": [
    "# Импорт класса SparkSession из модуля pyspark.sql для создания сессии Spark\n",
    "from pyspark.sql import SparkSession"
   ]
  },
  {
   "cell_type": "code",
   "execution_count": 47,
   "id": "eafc3e08-28a7-45fc-8976-56bef3ceee41",
   "metadata": {},
   "outputs": [],
   "source": [
    "# Создание объекта SparkSession\n",
    "spark = SparkSession.builder.master(\"local[*]\").appName(\"My Spark Application\").getOrCreate()"
   ]
  },
  {
   "cell_type": "code",
   "execution_count": 49,
   "id": "021e0164-69b7-49ac-94c6-2d2f4c43a2ac",
   "metadata": {},
   "outputs": [],
   "source": [
    "# Получение объекта SparkContext из SparkSession\n",
    "sc = spark.sparkContext"
   ]
  },
  {
   "cell_type": "code",
   "execution_count": 51,
   "id": "efdc9ae2-f0fe-419a-8fc9-453d3cfa1497",
   "metadata": {},
   "outputs": [
    {
     "data": {
      "text/html": [
       "\n",
       "        <div>\n",
       "            <p><b>SparkContext</b></p>\n",
       "\n",
       "            <p><a href=\"http://Quantum:4040\">Spark UI</a></p>\n",
       "\n",
       "            <dl>\n",
       "              <dt>Version</dt>\n",
       "                <dd><code>v3.5.5</code></dd>\n",
       "              <dt>Master</dt>\n",
       "                <dd><code>local[*]</code></dd>\n",
       "              <dt>AppName</dt>\n",
       "                <dd><code>My Spark Application</code></dd>\n",
       "            </dl>\n",
       "        </div>\n",
       "        "
      ],
      "text/plain": [
       "<SparkContext master=local[*] appName=My Spark Application>"
      ]
     },
     "execution_count": 51,
     "metadata": {},
     "output_type": "execute_result"
    }
   ],
   "source": [
    "sc"
   ]
  },
  {
   "cell_type": "code",
   "execution_count": 53,
   "id": "e90ff336-b736-43e4-bf85-16755133dcb8",
   "metadata": {},
   "outputs": [
    {
     "data": {
      "text/plain": [
       "[59, 56, 66, 40, 57]"
      ]
     },
     "execution_count": 53,
     "metadata": {},
     "output_type": "execute_result"
    }
   ],
   "source": [
    "# Пример работы с RDD в Spark\n",
    "rdd = sc.parallelize(range(100))\n",
    "rdd.takeSample(False, 5)  # Вернет 5 случайных элементов из RDD"
   ]
  },
  {
   "cell_type": "code",
   "execution_count": 55,
   "id": "498013d5-58f6-42fb-9661-5d7efdb95bcd",
   "metadata": {},
   "outputs": [],
   "source": [
    "sc.stop()"
   ]
  }
 ],
 "metadata": {
  "kernelspec": {
   "display_name": "Python [conda env:base] *",
   "language": "python",
   "name": "conda-base-py"
  },
  "language_info": {
   "codemirror_mode": {
    "name": "ipython",
    "version": 3
   },
   "file_extension": ".py",
   "mimetype": "text/x-python",
   "name": "python",
   "nbconvert_exporter": "python",
   "pygments_lexer": "ipython3",
   "version": "3.12.7"
  }
 },
 "nbformat": 4,
 "nbformat_minor": 5
}
