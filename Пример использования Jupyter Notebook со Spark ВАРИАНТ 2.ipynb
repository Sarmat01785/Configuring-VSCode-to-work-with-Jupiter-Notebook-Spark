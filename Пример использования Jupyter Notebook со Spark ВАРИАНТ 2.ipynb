{
 "cells": [
  {
   "cell_type": "code",
   "execution_count": 16,
   "id": "889acf17-7f97-4e1b-97b5-1c22ae293ccb",
   "metadata": {},
   "outputs": [
    {
     "name": "stdout",
     "output_type": "stream",
     "text": [
      "Requirement already satisfied: findspark in ./anaconda3/lib/python3.12/site-packages (2.0.1)\n"
     ]
    }
   ],
   "source": [
    "# Устанавливаем библиотеку findspark\n",
    "!pip install findspark"
   ]
  },
  {
   "cell_type": "code",
   "execution_count": 17,
   "id": "652bd804-81e6-488f-9cd7-7e59b8a855aa",
   "metadata": {},
   "outputs": [],
   "source": [
    "# Импортируем библиотеку findspark для работы с путями Spark\n",
    "import findspark\n",
    "findspark.init('/opt/spark')  # Указывает на установку Spark"
   ]
  },
  {
   "cell_type": "code",
   "execution_count": 18,
   "id": "bf62d798-c201-4f40-ae43-7bc88bd2b7c9",
   "metadata": {},
   "outputs": [
    {
     "name": "stdout",
     "output_type": "stream",
     "text": [
      "Welcome to\n",
      "      ____              __\n",
      "     / __/__  ___ _____/ /__\n",
      "    _\\ \\/ _ \\/ _ `/ __/  '_/\n",
      "   /___/ .__/\\_,_/_/ /_/\\_\\   version 3.5.5\n",
      "      /_/\n",
      "                        \n",
      "Using Scala version 2.12.18, OpenJDK 64-Bit Server VM, 17.0.14\n",
      "Branch HEAD\n",
      "Compiled by user ubuntu on 2025-02-23T20:30:46Z\n",
      "Revision 7c29c664cdc9321205a98a14858aaf8daaa19db2\n",
      "Url https://github.com/apache/spark\n",
      "Type --help for more information.\n"
     ]
    }
   ],
   "source": [
    "# Выводим информацию о версии Spark\n",
    "!spark-submit --version"
   ]
  },
  {
   "cell_type": "code",
   "execution_count": 19,
   "id": "1bacb28f-0f52-40a7-9e6e-b9e986183e4e",
   "metadata": {},
   "outputs": [],
   "source": [
    "# Импорт класса SparkSession из модуля pyspark.sql для создания сессии Spark\n",
    "from pyspark.sql import SparkSession"
   ]
  },
  {
   "cell_type": "code",
   "execution_count": 20,
   "id": "f1a5924c-ba11-4df6-83fd-703b8b9313dd",
   "metadata": {},
   "outputs": [],
   "source": [
    "# Создание объекта SparkSession\n",
    "spark = SparkSession.builder.master(\"local[*]\").appName(\"My Spark Application\").getOrCreate()"
   ]
  },
  {
   "cell_type": "code",
   "execution_count": 21,
   "id": "0785d620-3c23-49a3-ac65-39e8c86da580",
   "metadata": {},
   "outputs": [],
   "source": [
    "# Получение объекта SparkContext из SparkSession\n",
    "sc = spark.sparkContext"
   ]
  },
  {
   "cell_type": "code",
   "execution_count": 22,
   "id": "3e7c46ee-1f04-4935-b152-76bbd1a9a458",
   "metadata": {},
   "outputs": [
    {
     "data": {
      "text/html": [
       "\n",
       "        <div>\n",
       "            <p><b>SparkContext</b></p>\n",
       "\n",
       "            <p><a href=\"http://Quantum:4040\">Spark UI</a></p>\n",
       "\n",
       "            <dl>\n",
       "              <dt>Version</dt>\n",
       "                <dd><code>v3.5.5</code></dd>\n",
       "              <dt>Master</dt>\n",
       "                <dd><code>local[*]</code></dd>\n",
       "              <dt>AppName</dt>\n",
       "                <dd><code>My Spark Application</code></dd>\n",
       "            </dl>\n",
       "        </div>\n",
       "        "
      ],
      "text/plain": [
       "<SparkContext master=local[*] appName=My Spark Application>"
      ]
     },
     "execution_count": 22,
     "metadata": {},
     "output_type": "execute_result"
    }
   ],
   "source": [
    "# Выводим информацию о созданной сессии SparkContext.\n",
    "sc"
   ]
  },
  {
   "cell_type": "code",
   "execution_count": 23,
   "id": "31f6474a-c63c-4588-9c02-6617c9a8618a",
   "metadata": {},
   "outputs": [
    {
     "name": "stderr",
     "output_type": "stream",
     "text": [
      "                                                                                \r"
     ]
    },
    {
     "data": {
      "text/plain": [
       "[50, 54, 21, 16, 80]"
      ]
     },
     "execution_count": 23,
     "metadata": {},
     "output_type": "execute_result"
    }
   ],
   "source": [
    "# Пример работы с RDD в Spark\n",
    "rdd = sc.parallelize(range(100))\n",
    "rdd.takeSample(False, 5)  # Вернет 5 случайных элементов из RDD"
   ]
  },
  {
   "cell_type": "code",
   "execution_count": 24,
   "id": "3bac7623",
   "metadata": {},
   "outputs": [],
   "source": [
    "# Остановка текущего сеанса SparkContext.\n",
    "sc.stop()"
   ]
  }
 ],
 "metadata": {
  "kernelspec": {
   "display_name": "Python [conda env:base] *",
   "language": "python",
   "name": "conda-base-py"
  },
  "language_info": {
   "codemirror_mode": {
    "name": "ipython",
    "version": 3
   },
   "file_extension": ".py",
   "mimetype": "text/x-python",
   "name": "python",
   "nbconvert_exporter": "python",
   "pygments_lexer": "ipython3",
   "version": "3.12.7"
  }
 },
 "nbformat": 4,
 "nbformat_minor": 5
}
