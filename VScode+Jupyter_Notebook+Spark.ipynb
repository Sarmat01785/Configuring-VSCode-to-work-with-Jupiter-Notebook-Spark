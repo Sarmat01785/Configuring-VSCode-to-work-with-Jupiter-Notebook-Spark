{
 "cells": [
  {
   "cell_type": "markdown",
   "id": "5b4c4ec7",
   "metadata": {},
   "source": [
    "## Настройка `VScode` для работы с `Jupyter Notebook+Spark`"
   ]
  },
  {
   "cell_type": "markdown",
   "id": "17c76791",
   "metadata": {},
   "source": [
    "1. Стартуем `Jupyter Notebook` копируем `token`"
   ]
  },
  {
   "cell_type": "markdown",
   "id": "33c99f8f",
   "metadata": {},
   "source": [
    "2. Жмём в верхнем правом углу VScode `Выбор Ядра` выбераем существующий сервер Jupyter... и вставляем `token`"
   ]
  },
  {
   "cell_type": "markdown",
   "id": "926f064d",
   "metadata": {},
   "source": [
    "3. Далее выбираем `Python[condaenv:base]*` рекомендуется."
   ]
  },
  {
   "cell_type": "code",
   "execution_count": 8,
   "id": "45254261",
   "metadata": {},
   "outputs": [],
   "source": [
    "# Импортируем модуль sys, который позволяет управлять интерпретатором Python и его окружением.\n",
    "import sys\n",
    "# Добавляем путь '/home/executor/My_Spark' в список путей поиска модулей Python.\n",
    "# Это нужно для того, чтобы импортировать файлы и модули из указанного каталога.\n",
    "sys.path.append('/home/executor/My_Spark')"
   ]
  },
  {
   "cell_type": "code",
   "execution_count": 9,
   "id": "5dd8a53a",
   "metadata": {},
   "outputs": [],
   "source": [
    "# Импортируем модуль init_spark_env, который находится в каталоге My_Spark.\n",
    "# Этот модуль инициализирует среду Spark.\n",
    "import init_spark_env"
   ]
  },
  {
   "cell_type": "code",
   "execution_count": 10,
   "id": "32f3c659",
   "metadata": {},
   "outputs": [],
   "source": [
    "# Импортируем класс SparkSession из модуля pyspark.sql для создания сеанса Spark.\n",
    "from pyspark.sql import SparkSession"
   ]
  },
  {
   "cell_type": "code",
   "execution_count": 11,
   "id": "c04113fd",
   "metadata": {},
   "outputs": [],
   "source": [
    "# Создаем объект SparkSession с указанием мастера 'local[*]', что означает использование всех ядер процессора,\n",
    "# и задаем имя приложения \"My Spark Application\". Метод getOrCreate() возвращает существующий сеанс Spark,\n",
    "# если он уже был создан, либо создает новый.\n",
    "spark = SparkSession.builder.master(\"local[*]\").appName(\"My Spark Application\").getOrCreate()"
   ]
  },
  {
   "cell_type": "code",
   "execution_count": 12,
   "id": "2e9e07ff",
   "metadata": {},
   "outputs": [
    {
     "data": {
      "text/html": [
       "\n",
       "            <div>\n",
       "                <p><b>SparkSession - in-memory</b></p>\n",
       "                \n",
       "        <div>\n",
       "            <p><b>SparkContext</b></p>\n",
       "\n",
       "            <p><a href=\"http://Quantum:4040\">Spark UI</a></p>\n",
       "\n",
       "            <dl>\n",
       "              <dt>Version</dt>\n",
       "                <dd><code>v3.5.5</code></dd>\n",
       "              <dt>Master</dt>\n",
       "                <dd><code>local[*]</code></dd>\n",
       "              <dt>AppName</dt>\n",
       "                <dd><code>My Spark Application</code></dd>\n",
       "            </dl>\n",
       "        </div>\n",
       "        \n",
       "            </div>\n",
       "        "
      ],
      "text/plain": [
       "<pyspark.sql.session.SparkSession at 0x7fa49cda9cd0>"
      ]
     },
     "execution_count": 12,
     "metadata": {},
     "output_type": "execute_result"
    }
   ],
   "source": [
    "# Выводим информацию о созданной сессии Spark.\n",
    "spark"
   ]
  },
  {
   "cell_type": "code",
   "execution_count": 13,
   "id": "ff2f1576",
   "metadata": {},
   "outputs": [],
   "source": [
    "# Остановка текущего сеанса Spark.\n",
    "spark.stop()"
   ]
  }
 ],
 "metadata": {
  "kernelspec": {
   "display_name": "Python [conda env:base] *",
   "language": "python",
   "name": "conda-base-py"
  }
 },
 "nbformat": 4,
 "nbformat_minor": 5
}
