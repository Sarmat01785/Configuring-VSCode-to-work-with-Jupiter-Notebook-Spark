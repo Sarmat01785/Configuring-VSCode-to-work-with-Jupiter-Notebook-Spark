{
 "cells": [
  {
   "cell_type": "markdown",
   "id": "e0b762b1",
   "metadata": {},
   "source": [
    "### Настройка `VScode` для работы с `Jupyter Notebook+Spark` вариант 2"
   ]
  },
  {
   "cell_type": "markdown",
   "id": "6984287b",
   "metadata": {},
   "source": [
    "1. Стартуем `Jupyter Notebook` копируем `token`\n",
    "\n",
    "2. Жмём в верхнем правом углу `VScode` Выбор Ядра выбераем существующий сервер `Jupyter...` и вставляем `token`\n",
    "\n",
    "3. Далее выбираем `Python[condaenv:base]*` рекомендуется."
   ]
  },
  {
   "cell_type": "code",
   "execution_count": 1,
   "id": "f595210d",
   "metadata": {},
   "outputs": [
    {
     "name": "stdout",
     "output_type": "stream",
     "text": [
      "Requirement already satisfied: findspark in ./anaconda3/lib/python3.12/site-packages (2.0.1)\n"
     ]
    }
   ],
   "source": [
    "# Устанавливаем библиотеку findspark   # Если еще не установлена.\n",
    "!pip install findspark"
   ]
  },
  {
   "cell_type": "code",
   "execution_count": 2,
   "id": "8a646e09",
   "metadata": {},
   "outputs": [],
   "source": [
    "# Импортируем библиотеку findspark для работы с путями Spark\n",
    "import findspark\n",
    "findspark.init('/opt/spark')  # Указывает на установку Spark"
   ]
  },
  {
   "cell_type": "code",
   "execution_count": 3,
   "id": "c5efcc65",
   "metadata": {},
   "outputs": [
    {
     "name": "stdout",
     "output_type": "stream",
     "text": [
      "Welcome to\n",
      "      ____              __\n",
      "     / __/__  ___ _____/ /__\n",
      "    _\\ \\/ _ \\/ _ `/ __/  '_/\n",
      "   /___/ .__/\\_,_/_/ /_/\\_\\   version 3.5.5\n",
      "      /_/\n",
      "                        \n",
      "Using Scala version 2.12.18, OpenJDK 64-Bit Server VM, 17.0.14\n",
      "Branch HEAD\n",
      "Compiled by user ubuntu on 2025-02-23T20:30:46Z\n",
      "Revision 7c29c664cdc9321205a98a14858aaf8daaa19db2\n",
      "Url https://github.com/apache/spark\n",
      "Type --help for more information.\n"
     ]
    }
   ],
   "source": [
    "# Выводим информацию о версии Spark\n",
    "!spark-submit --version"
   ]
  },
  {
   "cell_type": "code",
   "execution_count": 4,
   "id": "95f86c60",
   "metadata": {},
   "outputs": [],
   "source": [
    "# Импортируем класс SparkSession из модуля pyspark.sql для создания сеанса Spark.\n",
    "from pyspark.sql import SparkSession"
   ]
  },
  {
   "cell_type": "code",
   "execution_count": 5,
   "id": "e55544ed",
   "metadata": {},
   "outputs": [
    {
     "name": "stderr",
     "output_type": "stream",
     "text": [
      "Setting default log level to \"WARN\".\n",
      "To adjust logging level use sc.setLogLevel(newLevel). For SparkR, use setLogLevel(newLevel).\n",
      "25/04/18 15:01:21 WARN NativeCodeLoader: Unable to load native-hadoop library for your platform... using builtin-java classes where applicable\n"
     ]
    }
   ],
   "source": [
    "# Создаем объект SparkSession с указанием мастера 'local[*]', что означает использование всех ядер процессора,\n",
    "# и задаем имя приложения \"My Spark Application\". Метод getOrCreate() возвращает существующий сеанс Spark,\n",
    "# если он уже был создан, либо создает новый.\n",
    "spark = SparkSession.builder.master(\"local[*]\").appName(\"My Spark Application\").getOrCreate()"
   ]
  },
  {
   "cell_type": "code",
   "execution_count": 6,
   "id": "bbdc1341",
   "metadata": {},
   "outputs": [
    {
     "data": {
      "text/html": [
       "\n",
       "            <div>\n",
       "                <p><b>SparkSession - in-memory</b></p>\n",
       "                \n",
       "        <div>\n",
       "            <p><b>SparkContext</b></p>\n",
       "\n",
       "            <p><a href=\"http://Quantum:4040\">Spark UI</a></p>\n",
       "\n",
       "            <dl>\n",
       "              <dt>Version</dt>\n",
       "                <dd><code>v3.5.5</code></dd>\n",
       "              <dt>Master</dt>\n",
       "                <dd><code>local[*]</code></dd>\n",
       "              <dt>AppName</dt>\n",
       "                <dd><code>My Spark Application</code></dd>\n",
       "            </dl>\n",
       "        </div>\n",
       "        \n",
       "            </div>\n",
       "        "
      ],
      "text/plain": [
       "<pyspark.sql.session.SparkSession at 0x7f31f40486b0>"
      ]
     },
     "execution_count": 6,
     "metadata": {},
     "output_type": "execute_result"
    }
   ],
   "source": [
    "# Выводим информацию о созданной сессии Spark.\n",
    "spark"
   ]
  },
  {
   "cell_type": "code",
   "execution_count": 7,
   "id": "bd52324c",
   "metadata": {},
   "outputs": [],
   "source": [
    "# Остановка текущего сеанса Spark.\n",
    "spark.stop()"
   ]
  }
 ],
 "metadata": {
  "kernelspec": {
   "display_name": "Python [conda env:base] *",
   "language": "python",
   "name": "conda-base-py"
  },
  "language_info": {
   "codemirror_mode": {
    "name": "ipython",
    "version": 3
   },
   "file_extension": ".py",
   "mimetype": "text/x-python",
   "name": "python",
   "nbconvert_exporter": "python",
   "pygments_lexer": "ipython3",
   "version": "3.12.7"
  }
 },
 "nbformat": 4,
 "nbformat_minor": 5
}
